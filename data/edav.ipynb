{
 "cells": [
  {
   "cell_type": "code",
   "execution_count": null,
   "id": "a44f71f7",
   "metadata": {},
   "outputs": [],
   "source": [
    "import matplotlib.pyplot as plt\n",
    "import pandas as pd\n",
    "import re"
   ]
  },
  {
   "cell_type": "code",
   "execution_count": null,
   "id": "7524a257",
   "metadata": {},
   "outputs": [],
   "source": [
    "def compare_results(results_dirs: dict[str, str], smaller: bool = False):\n",
    "\n",
    "    fig, ax = plt.subplots(figsize=(10, 5))\n",
    "\n",
    "    labels = pd.read_csv(\"texas-labels.csv\") if not smaller else pd.read_csv(\"texas-smaller-labels.csv\")\n",
    "    labels[\"Date\"] = pd.to_datetime(labels[\"Date\"])\n",
    "    labels = labels.sort_values(by=\"Date\")\n",
    "    labels[\"Score\"] = labels[\"Score\"].astype(int)\n",
    "\n",
    "    resid_dict = {}\n",
    "\n",
    "    for label, path in results_dirs.items():\n",
    "        preds = pd.read_csv(path)\n",
    "        preds[\"Date\"] = pd.to_datetime(preds[\"Date\"])\n",
    "        preds = preds.sort_values(by=\"Date\")\n",
    "\n",
    "        preds[\"Score\"] = preds[\"Score\"].fillna(\"0\")\n",
    "        preds[\"Score\"] = preds[\"Score\"].astype(str)\n",
    "        valid_scores = [\"0\", \"1\", \"2\", \"3\"]\n",
    "        # any score not in valid scores should be set to 0\n",
    "        preds[\"Score\"] = preds[\"Score\"].apply(lambda x: x if x in valid_scores else \"0\")\n",
    "        preds[\"Score\"] = preds[\"Score\"].astype(int)\n",
    "\n",
    "        resid_dict[label] = preds[\"Score\"] - labels[\"Score\"]\n",
    "\n",
    "        ax.plot(preds[\"Date\"], preds[\"Score\"], marker=\"o\", alpha=0.7, label=label)\n",
    "\n",
    "    ax.plot(labels[\"Date\"], labels[\"Score\"], marker=\"o\", color=\"black\", linestyle=\"--\", alpha=0.5, label=\"true\")\n",
    "\n",
    "    ax.axvline(pd.to_datetime(\"2021-01-01\"), color=\"gray\", linestyle=\"--\", alpha=0.5)\n",
    "    ax.axvline(pd.to_datetime(\"2022-01-01\"), color=\"gray\", linestyle=\"--\", alpha=0.5)\n",
    "\n",
    "    ax.legend()\n",
    "    ax.set_xlabel(\"Date\")\n",
    "    ax.set_xticks(ax.get_xticks(), ax.get_xticklabels(), rotation=45, ha='right')\n",
    "    ax.set_yticks([0, 1, 2, 3])\n",
    "    ax.set_ylabel(\"School closing\")\n",
    "\n",
    "    plt.show()\n",
    "\n",
    "    fig, ax = plt.subplots(figsize=(10, 5))\n",
    "    for label, residuals in resid_dict.items():\n",
    "        ax.plot(labels[\"Date\"], residuals, marker=\"o\", label=label)\n",
    "\n",
    "    ax.axvline(pd.to_datetime(\"2021-01-01\"), color=\"gray\", linestyle=\"--\", alpha=0.5)\n",
    "    ax.axvline(pd.to_datetime(\"2022-01-01\"), color=\"gray\", linestyle=\"--\", alpha=0.5)\n",
    "    ax.axhline(0, color=\"black\", linestyle=\"--\")\n",
    "\n",
    "    ax.legend()\n",
    "    ax.set_xlabel(\"Date\")\n",
    "    ax.set_xticks(ax.get_xticks(), ax.get_xticklabels(), rotation=45, ha='right')\n",
    "    ax.set_yticks([-3, -2, -1, 0, 1, 2, 3])\n",
    "    ax.set_ylabel(\"Residuals\")\n",
    "\n",
    "    plt.show()\n",
    "\n",
    "    mae_dict = dict(resid_dict)\n",
    "    for label in mae_dict:\n",
    "        mae_dict[label] = mae_dict[label].abs().mean()\n",
    "    fig, ax = plt.subplots()\n",
    "    ax.grid(axis=\"y\")\n",
    "    ax.bar(mae_dict.keys(), mae_dict.values(), color=[f\"C{i}\" for i in range(len(mae_dict))])\n",
    "    ax.set_ylabel(\"Mean Absolute Error\")\n",
    "    ax.set_xlabel(\"Run\")\n",
    "\n",
    "    plt.show()\n",
    "\n",
    "\n",
    "# compare_results({\"first\": \"../logs/first-run/persistence.csv\",\n",
    "#                  \"notes\": \"../logs/notes/persistence.csv\",\n",
    "#                  \"priority\": \"persistence.csv\"})\n",
    "\n",
    "compare_results(\n",
    "    {\n",
    "        \"no-history\": \"persistence.csv\"\n",
    "    },\n",
    "    smaller=True\n",
    ")"
   ]
  },
  {
   "cell_type": "code",
   "execution_count": null,
   "id": "bac637e0",
   "metadata": {},
   "outputs": [],
   "source": [
    "df = pd.read_csv(\"OxCGRT_raw_USA_v1.csv\")"
   ]
  },
  {
   "cell_type": "code",
   "execution_count": null,
   "id": "d130dd36",
   "metadata": {},
   "outputs": [],
   "source": [
    "for col in df.columns:\n",
    "    print(col)"
   ]
  },
  {
   "cell_type": "code",
   "execution_count": null,
   "id": "6ecab2bc",
   "metadata": {},
   "outputs": [],
   "source": [
    "c1_cols = [\"C1E_School closing\", \"C1_Notes\"]\n",
    "index_cols = [\"CountryName\", \"CountryCode\", \"RegionName\", \"RegionCode\", \"Date\"]\n",
    "c1 = df[index_cols + c1_cols]\n",
    "c1 = c1[c1[\"RegionName\"] == \"Texas\"]\n",
    "c1 = c1.dropna(subset=c1_cols)\n",
    "c1[\"Date\"] = pd.to_datetime(c1[\"Date\"], format=\"%Y%m%d\")\n",
    "c1 = c1.sort_values(by=[\"Date\"])\n",
    "len(c1)"
   ]
  },
  {
   "cell_type": "code",
   "execution_count": null,
   "id": "440e564a",
   "metadata": {},
   "outputs": [],
   "source": [
    "def get_notes_from_date(c1: pd.DataFrame, date: str) -> str:\n",
    "    date = pd.to_datetime(date, format=\"%Y-%m-%d\")\n",
    "    subset = c1[c1[\"Date\"] == date]\n",
    "    notes = subset[\"C1_Notes\"].tolist()[0]\n",
    "    score = subset[\"C1E_School closing\"].tolist()[0]\n",
    "    return score, notes"
   ]
  },
  {
   "cell_type": "code",
   "execution_count": null,
   "id": "72b86e8e",
   "metadata": {},
   "outputs": [],
   "source": [
    "get_notes_from_date(c1, \"2022-01-11\")"
   ]
  },
  {
   "cell_type": "code",
   "execution_count": null,
   "id": "280d1ee4",
   "metadata": {},
   "outputs": [],
   "source": [
    "def extract_urls(text: str) -> list[str]:\n",
    "    url_pattern = r'https?://[^\\s<>\"]+|www\\.[^\\s<>\"]+'\n",
    "    urls = re.findall(url_pattern, text)\n",
    "    return urls\n",
    "\n",
    "def create_dataset(c1: pd.DataFrame, smaller: bool = False) -> pd.DataFrame:\n",
    "    policy = \"C1E_School closing\"\n",
    "    region = \"Texas\"\n",
    "    data = []\n",
    "    for i, row in c1.iterrows():\n",
    "        date = pd.to_datetime(row[\"Date\"], format=\"%Y%m%d\").date()\n",
    "        score = row[policy]\n",
    "        # print(row[\"C1_Notes\"])\n",
    "        urls = extract_urls(row[\"C1_Notes\"])\n",
    "        url_string = \", \".join(urls)\n",
    "        to_add = {\"Date\": date, \"Region\": region, \"Policy\": policy, \"Score\": score, \"Source\": url_string}\n",
    "        data.append(to_add)\n",
    "\n",
    "    df = pd.DataFrame(data)\n",
    "\n",
    "    # If smaller is True, keep entries before and after a change in score\n",
    "    if smaller:\n",
    "        diff = df[\"Score\"].diff().fillna(0).astype(int)\n",
    "        change_indices = diff[diff != 0].index.tolist()\n",
    "        change_indices.extend([i - 1 for i in change_indices if i > 0])\n",
    "        if len(df) - 1 not in change_indices:\n",
    "            change_indices.append(len(df) - 1)\n",
    "        change_indices = sorted(change_indices)\n",
    "        df = df.iloc[change_indices].copy()\n",
    "    return df\n",
    "\n",
    "texas = create_dataset(c1)\n",
    "smaller = create_dataset(c1, smaller=True)\n",
    "# smaller.drop(columns=[\"Score\"]).to_csv(\"texas-smaller.csv\", index=False)\n",
    "# smaller.drop(columns=[\"Source\"]).to_csv(\"texas-smaller-labels.csv\", index=False)\n",
    "# texas.drop(columns=[\"Score\"]).to_csv(\"texas.csv\", index=False)\n",
    "# texas.drop(columns=[\"source\"]).to_csv(\"texas-labels.csv\", index=False)"
   ]
  },
  {
   "cell_type": "code",
   "execution_count": null,
   "id": "f7dc0e98",
   "metadata": {},
   "outputs": [],
   "source": [
    "fig, ax = plt.subplots()\n",
    "ax.plot(pd.to_datetime(texas[\"Date\"], format=\"%Y%m%d\"), texas[\"Score\"])\n",
    "ax.set_xlabel(\"Date\")\n",
    "ax.set_ylabel(\"C1E_School closing\")\n",
    "plt.show()"
   ]
  }
 ],
 "metadata": {
  "kernelspec": {
   "display_name": "neurosan",
   "language": "python",
   "name": "python3"
  },
  "language_info": {
   "codemirror_mode": {
    "name": "ipython",
    "version": 3
   },
   "file_extension": ".py",
   "mimetype": "text/x-python",
   "name": "python",
   "nbconvert_exporter": "python",
   "pygments_lexer": "ipython3",
   "version": "3.12.9"
  }
 },
 "nbformat": 4,
 "nbformat_minor": 5
}
