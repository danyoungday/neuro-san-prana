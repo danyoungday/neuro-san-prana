{
 "cells": [
  {
   "cell_type": "code",
   "execution_count": null,
   "id": "a44f71f7",
   "metadata": {},
   "outputs": [],
   "source": [
    "import matplotlib.pyplot as plt\n",
    "import pandas as pd"
   ]
  },
  {
   "cell_type": "code",
   "execution_count": null,
   "id": "bac637e0",
   "metadata": {},
   "outputs": [],
   "source": [
    "df = pd.read_csv(\"OxCGRT_raw_USA_v1.csv\")"
   ]
  },
  {
   "cell_type": "code",
   "execution_count": null,
   "id": "d130dd36",
   "metadata": {},
   "outputs": [],
   "source": [
    "for col in df.columns:\n",
    "    print(col)"
   ]
  },
  {
   "cell_type": "code",
   "execution_count": null,
   "id": "6ecab2bc",
   "metadata": {},
   "outputs": [],
   "source": [
    "c1_cols = [\"C1E_School closing\", \"C1_Notes\"]\n",
    "index_cols = [\"CountryName\", \"CountryCode\", \"RegionName\", \"RegionCode\", \"Date\"]\n",
    "c1 = df[index_cols + c1_cols]\n",
    "c1 = c1.dropna(subset=[\"C1_Notes\"])\n",
    "c1 = c1[c1[\"RegionCode\"] == \"NAT_TOTAL\"]\n",
    "c1 = c1.sort_values(by=\"Date\")\n",
    "for i in range(20):\n",
    "    print(c1[\"C1E_School closing\"].iloc[i])\n",
    "    print(c1[\"C1_Notes\"].iloc[i])"
   ]
  },
  {
   "cell_type": "code",
   "execution_count": null,
   "id": "f7dc0e98",
   "metadata": {},
   "outputs": [],
   "source": [
    "fig, ax = plt.subplots()\n",
    "ax.plot(c1[\"Date\"], c1[\"C1E_School closing\"])\n",
    "plt.show()"
   ]
  }
 ],
 "metadata": {
  "kernelspec": {
   "display_name": "neurosan",
   "language": "python",
   "name": "python3"
  },
  "language_info": {
   "codemirror_mode": {
    "name": "ipython",
    "version": 3
   },
   "file_extension": ".py",
   "mimetype": "text/x-python",
   "name": "python",
   "nbconvert_exporter": "python",
   "pygments_lexer": "ipython3",
   "version": "3.12.9"
  }
 },
 "nbformat": 4,
 "nbformat_minor": 5
}
