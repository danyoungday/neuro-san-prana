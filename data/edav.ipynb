{
 "cells": [
  {
   "cell_type": "code",
   "execution_count": null,
   "id": "a44f71f7",
   "metadata": {},
   "outputs": [],
   "source": [
    "import matplotlib.pyplot as plt\n",
    "import pandas as pd\n",
    "import re"
   ]
  },
  {
   "cell_type": "code",
   "execution_count": null,
   "id": "7524a257",
   "metadata": {},
   "outputs": [],
   "source": [
    "def compare_results():\n",
    "    labels = pd.read_csv(\"texas-labels.csv\")\n",
    "    preds = pd.read_csv(\"persistence.csv\")\n",
    "\n",
    "    labels[\"Date\"] = pd.to_datetime(labels[\"Date\"])\n",
    "    preds[\"Date\"] = pd.to_datetime(preds[\"Date\"])\n",
    "\n",
    "    preds = preds.sort_values(by=\"Date\")\n",
    "\n",
    "    preds[\"score\"] = preds[\"score\"].astype(str)\n",
    "    valid_scores = [\"0\", \"1\", \"2\", \"3\"]\n",
    "    # any score not in valid scores should be set to 0\n",
    "    preds[\"score\"] = preds[\"score\"].apply(lambda x: x if x in valid_scores else \"0\")\n",
    "    preds[\"score\"] = preds[\"score\"].astype(int)\n",
    "\n",
    "    for i in range(len(preds)):\n",
    "        if abs(preds[\"score\"][i] - labels[\"score\"][i]) > 1:\n",
    "            print(f\"{preds['Date'][i].date()}: pred: {preds['score'][i]}, true: {labels['score'][i]}\")\n",
    "\n",
    "    fig, ax = plt.subplots()\n",
    "    ax.plot(labels[\"Date\"], labels[\"score\"], label=\"true\")\n",
    "    ax.plot(preds[\"Date\"], preds[\"score\"], label=\"predicted\")\n",
    "\n",
    "    ax.legend()\n",
    "    ax.set_xlabel(\"Date\")\n",
    "    ax.set_yticks([0, 1, 2, 3])\n",
    "    ax.set_ylabel(\"School closing\")\n",
    "\n",
    "    plt.show()\n",
    "\n",
    "compare_results()"
   ]
  },
  {
   "cell_type": "code",
   "execution_count": null,
   "id": "bac637e0",
   "metadata": {},
   "outputs": [],
   "source": [
    "df = pd.read_csv(\"OxCGRT_raw_USA_v1.csv\")"
   ]
  },
  {
   "cell_type": "code",
   "execution_count": null,
   "id": "d130dd36",
   "metadata": {},
   "outputs": [],
   "source": [
    "for col in df.columns:\n",
    "    print(col)"
   ]
  },
  {
   "cell_type": "code",
   "execution_count": null,
   "id": "6ecab2bc",
   "metadata": {},
   "outputs": [],
   "source": [
    "c1_cols = [\"C1E_School closing\", \"C1_Notes\"]\n",
    "index_cols = [\"CountryName\", \"CountryCode\", \"RegionName\", \"RegionCode\", \"Date\"]\n",
    "c1 = df[index_cols + c1_cols]\n",
    "c1 = c1[c1[\"RegionName\"] == \"Texas\"]\n",
    "c1 = c1.dropna(subset=c1_cols)\n",
    "c1[\"Date\"] = pd.to_datetime(c1[\"Date\"], format=\"%Y%m%d\")\n",
    "c1 = c1.sort_values(by=[\"Date\"])\n",
    "len(c1)"
   ]
  },
  {
   "cell_type": "code",
   "execution_count": null,
   "id": "440e564a",
   "metadata": {},
   "outputs": [],
   "source": [
    "def get_notes_from_date(c1: pd.DataFrame, date: str) -> str:\n",
    "    date = pd.to_datetime(date, format=\"%Y-%m-%d\")\n",
    "    subset = c1[c1[\"Date\"] == date]\n",
    "    notes = subset[\"C1_Notes\"].tolist()[0]\n",
    "    score = subset[\"C1E_School closing\"].tolist()[0]\n",
    "    return score, notes"
   ]
  },
  {
   "cell_type": "code",
   "execution_count": null,
   "id": "72b86e8e",
   "metadata": {},
   "outputs": [],
   "source": [
    "get_notes_from_date(c1, \"2022-01-11\")"
   ]
  },
  {
   "cell_type": "code",
   "execution_count": null,
   "id": "280d1ee4",
   "metadata": {},
   "outputs": [],
   "source": [
    "def extract_urls(text: str) -> list[str]:\n",
    "    url_pattern = r'https?://[^\\s<>\"]+|www\\.[^\\s<>\"]+'\n",
    "    urls = re.findall(url_pattern, text)\n",
    "    return urls\n",
    "\n",
    "def create_dataset(c1: pd.DataFrame) -> pd.DataFrame:\n",
    "    policy = \"C1E_School closing\"\n",
    "    region = \"Texas\"\n",
    "    data = []\n",
    "    for i, row in c1.iterrows():\n",
    "        date = pd.to_datetime(row[\"Date\"], format=\"%Y%m%d\").date()\n",
    "        score = row[policy]\n",
    "        print(row[\"C1_Notes\"])\n",
    "        urls = extract_urls(row[\"C1_Notes\"])\n",
    "        url_string = \", \".join(urls)\n",
    "        to_add = {\"Date\": date, \"Region\": region, \"Policy\": policy, \"score\": score, \"source\": url_string}\n",
    "        data.append(to_add)\n",
    "\n",
    "    df = pd.DataFrame(data)\n",
    "    return df\n",
    "\n",
    "texas = create_dataset(c1)\n",
    "# texas.drop(columns=[\"score\"]).to_csv(\"texas.csv\", index=False)\n",
    "# texas.drop(columns=[\"source\"]).to_csv(\"texas-labels.csv\", index=False)"
   ]
  },
  {
   "cell_type": "code",
   "execution_count": null,
   "id": "f7dc0e98",
   "metadata": {},
   "outputs": [],
   "source": [
    "fig, ax = plt.subplots()\n",
    "ax.plot(pd.to_datetime(texas[\"Date\"], format=\"%Y%m%d\"), texas[\"score\"])\n",
    "ax.set_xlabel(\"Date\")\n",
    "ax.set_ylabel(\"C1E_School closing\")\n",
    "plt.show()"
   ]
  },
  {
   "cell_type": "code",
   "execution_count": null,
   "id": "f7eb8f27",
   "metadata": {},
   "outputs": [],
   "source": [
    "pd.to_datetime(\"20200301\")"
   ]
  }
 ],
 "metadata": {
  "kernelspec": {
   "display_name": "neurosan",
   "language": "python",
   "name": "python3"
  },
  "language_info": {
   "codemirror_mode": {
    "name": "ipython",
    "version": 3
   },
   "file_extension": ".py",
   "mimetype": "text/x-python",
   "name": "python",
   "nbconvert_exporter": "python",
   "pygments_lexer": "ipython3",
   "version": "3.12.9"
  }
 },
 "nbformat": 4,
 "nbformat_minor": 5
}
