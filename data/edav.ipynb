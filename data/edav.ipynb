{
 "cells": [
  {
   "cell_type": "code",
   "execution_count": null,
   "id": "a44f71f7",
   "metadata": {},
   "outputs": [],
   "source": [
    "import matplotlib.pyplot as plt\n",
    "import pandas as pd\n",
    "import re"
   ]
  },
  {
   "cell_type": "code",
   "execution_count": null,
   "id": "bac637e0",
   "metadata": {},
   "outputs": [],
   "source": [
    "df = pd.read_csv(\"OxCGRT_raw_USA_v1.csv\")"
   ]
  },
  {
   "cell_type": "code",
   "execution_count": null,
   "id": "d130dd36",
   "metadata": {},
   "outputs": [],
   "source": [
    "for col in df.columns:\n",
    "    print(col)"
   ]
  },
  {
   "cell_type": "code",
   "execution_count": null,
   "id": "6ecab2bc",
   "metadata": {},
   "outputs": [],
   "source": [
    "c1_cols = [\"C1E_School closing\", \"C1_Notes\"]\n",
    "index_cols = [\"CountryName\", \"CountryCode\", \"RegionName\", \"RegionCode\", \"Date\"]\n",
    "c1 = df[index_cols + c1_cols]\n",
    "c1 = c1[c1[\"RegionName\"] == \"Texas\"]\n",
    "c1 = c1.dropna(subset=c1_cols)\n",
    "c1 = c1.sort_values(by=[\"Date\"])\n",
    "len(c1)"
   ]
  },
  {
   "cell_type": "code",
   "execution_count": null,
   "id": "280d1ee4",
   "metadata": {},
   "outputs": [],
   "source": [
    "def extract_urls(text: str) -> list[str]:\n",
    "    url_pattern = r'https?://[^\\s<>\"]+|www\\.[^\\s<>\"]+'\n",
    "    urls = re.findall(url_pattern, text)\n",
    "    return urls\n",
    "\n",
    "def create_dataset(c1: pd.DataFrame) -> pd.DataFrame:\n",
    "    policy = \"C1E_School closing\"\n",
    "    region = \"Texas\"\n",
    "    data = []\n",
    "    for i, row in c1.iterrows():\n",
    "        date = pd.to_datetime(row[\"Date\"], format=\"%Y%m%d\").date()\n",
    "        score = row[policy]\n",
    "        urls = extract_urls(row[\"C1_Notes\"])\n",
    "        url_string = \", \".join(urls)\n",
    "        to_add = {\"Date\": date, \"Region\": region, \"Policy\": policy, \"score\": score, \"source\": url_string}\n",
    "        data.append(to_add)\n",
    "\n",
    "    df = pd.DataFrame(data)\n",
    "    return df\n",
    "\n",
    "texas = create_dataset(c1)\n",
    "texas.drop(columns=[\"score\"]).to_csv(\"texas.csv\", index=False)\n",
    "texas.drop(columns=[\"source\"]).to_csv(\"texas-labels.csv\", index=False)"
   ]
  },
  {
   "cell_type": "code",
   "execution_count": null,
   "id": "f7dc0e98",
   "metadata": {},
   "outputs": [],
   "source": [
    "fig, ax = plt.subplots()\n",
    "ax.plot(pd.to_datetime(texas[\"Date\"], format=\"%Y%m%d\"), texas[\"score\"])\n",
    "ax.set_xlabel(\"Date\")\n",
    "ax.set_ylabel(\"C1E_School closing\")\n",
    "plt.show()"
   ]
  },
  {
   "cell_type": "code",
   "execution_count": null,
   "id": "f7eb8f27",
   "metadata": {},
   "outputs": [],
   "source": [
    "pd.to_datetime(\"20200301\")"
   ]
  },
  {
   "cell_type": "code",
   "execution_count": null,
   "id": "294cb4e5",
   "metadata": {},
   "outputs": [],
   "source": [
    "def create_initial_persistence():\n",
    "    rows = []\n",
    "    rows.append({\"date\": pd.to_datetime(\"November 28 2020\"), \"region\": \"United States\", \"criterion\": \"C1E\", \"score\": 3})\n",
    "    rows.append({\"date\": pd.to_datetime(\"September 14 2024\"), \"region\": \"United States\", \"criterion\": \"C1E\", \"score\": 0})\n",
    "\n",
    "    df = pd.DataFrame(rows)\n",
    "    df.to_csv(\"persistence.csv\", index=False)\n",
    "\n",
    "create_initial_persistence()"
   ]
  }
 ],
 "metadata": {
  "kernelspec": {
   "display_name": "neurosan",
   "language": "python",
   "name": "python3"
  },
  "language_info": {
   "codemirror_mode": {
    "name": "ipython",
    "version": 3
   },
   "file_extension": ".py",
   "mimetype": "text/x-python",
   "name": "python",
   "nbconvert_exporter": "python",
   "pygments_lexer": "ipython3",
   "version": "3.12.9"
  }
 },
 "nbformat": 4,
 "nbformat_minor": 5
}
