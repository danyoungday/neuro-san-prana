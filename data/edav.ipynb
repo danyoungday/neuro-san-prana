{
 "cells": [
  {
   "cell_type": "code",
   "execution_count": 1,
   "id": "a44f71f7",
   "metadata": {},
   "outputs": [],
   "source": [
    "import matplotlib.pyplot as plt\n",
    "import pandas as pd"
   ]
  },
  {
   "cell_type": "code",
   "execution_count": 2,
   "id": "bac637e0",
   "metadata": {},
   "outputs": [
    {
     "name": "stderr",
     "output_type": "stream",
     "text": [
      "/var/folders/4c/sd5grc691sx_dp1xqn1s9dyc0000gq/T/ipykernel_1486/3994568911.py:1: DtypeWarning: Columns (65,67,76,78) have mixed types. Specify dtype option on import or set low_memory=False.\n",
      "  df = pd.read_csv(\"OxCGRT_raw_USA_v1.csv\")\n"
     ]
    }
   ],
   "source": [
    "df = pd.read_csv(\"OxCGRT_raw_USA_v1.csv\")"
   ]
  },
  {
   "cell_type": "code",
   "execution_count": 3,
   "id": "d130dd36",
   "metadata": {},
   "outputs": [
    {
     "name": "stdout",
     "output_type": "stream",
     "text": [
      "CountryName\n",
      "CountryCode\n",
      "RegionName\n",
      "RegionCode\n",
      "Jurisdiction\n",
      "Date\n",
      "C1E_School closing\n",
      "C1E_Flag\n",
      "C1NV_School closing\n",
      "C1NV_Flag\n",
      "C1V_School closing\n",
      "C1V_Flag\n",
      "C1_Notes\n",
      "C2E_Workplace closing\n",
      "C2E_Flag\n",
      "C2NV_Workplace closing\n",
      "C2NV_Flag\n",
      "C2V_Workplace closing\n",
      "C2V_Flag\n",
      "C2_Notes\n",
      "C3E_Cancel public events\n",
      "C3E_Flag\n",
      "C3NV_Cancel public events\n",
      "C3NV_Flag\n",
      "C3V_Cancel public events\n",
      "C3V_Flag\n",
      "C3_Notes\n",
      "C4E_Restrictions on gatherings\n",
      "C4E_Flag\n",
      "C4NV_Restrictions on gatherings\n",
      "C4NV_Flag\n",
      "C4V_Restrictions on gatherings\n",
      "C4V_Flag\n",
      "C4_Notes\n",
      "C5E_Close public transport\n",
      "C5E_Flag\n",
      "C5NV_Close public transport\n",
      "C5NV_Flag\n",
      "C5V_Close public transport\n",
      "C5V_Flag\n",
      "C5_Notes\n",
      "C6E_Stay at home requirements\n",
      "C6E_Flag\n",
      "C6NV_Stay at home requirements\n",
      "C6NV_Flag\n",
      "C6V_Stay at home requirements\n",
      "C6V_Flag\n",
      "C6_Notes\n",
      "C7E_Restrictions on internal movement\n",
      "C7E_Flag\n",
      "C7NV_Restrictions on internal movement\n",
      "C7NV_Flag\n",
      "C7V_Restrictions on internal movement\n",
      "C7V_Flag\n",
      "C7_Notes\n",
      "C8E_International travel controls\n",
      "C8NV_International travel controls\n",
      "C8V_International travel controls\n",
      "C8_Notes\n",
      "E1_Income support\n",
      "E1_Flag\n",
      "E1_Notes\n",
      "E2_Debt/contract relief\n",
      "E2_Notes\n",
      "E3_Fiscal measures\n",
      "E3_Notes\n",
      "E4_International support\n",
      "E4_Notes\n",
      "H1_Public information campaigns\n",
      "H1_Flag\n",
      "H1_Notes\n",
      "H2_Testing policy\n",
      "H2_Notes\n",
      "H3_Contact tracing\n",
      "H3_Notes\n",
      "H4_Emergency investment in healthcare\n",
      "H4_Notes\n",
      "H5_Investment in vaccines\n",
      "H5_Notes\n",
      "H6E_Facial Coverings\n",
      "H6E_Flag\n",
      "H6NV_Facial Coverings\n",
      "H6NV_Flag\n",
      "H6V_Facial Coverings\n",
      "H6V_Flag\n",
      "H6_Notes\n",
      "H7_Vaccination policy\n",
      "H7_Flag\n",
      "H7_Notes\n",
      "H8E_Protection of elderly people\n",
      "H8E_Flag\n",
      "H8NV_Protection of elderly people\n",
      "H8NV_Flag\n",
      "H8V_Protection of elderly people\n",
      "H8V_Flag\n",
      "H8_Notes\n",
      "M1_Notes\n",
      "V1_Vaccine Prioritisation (summary)\n",
      "V1_Notes\n",
      "V2A_Vaccine Availability (summary)\n",
      "V2_Notes\n",
      "V2B_Vaccine age eligibility/availability age floor (general population summary)\n",
      "V2C_Vaccine age eligibility/availability age floor (at risk summary)\n",
      "V2D_Medically/ clinically vulnerable (Non-elderly)\n",
      "V2E_Education\n",
      "V2F_Frontline workers  (non healthcare)\n",
      "V2G_Frontline workers  (healthcare)\n",
      "V3_Vaccine Financial Support (summary)\n",
      "V3_Notes\n",
      "V4_Mandatory Vaccination (summary)\n",
      "V4_Notes\n",
      "ConfirmedCases\n",
      "ConfirmedDeaths\n",
      "MajorityVaccinated\n",
      "PopulationVaccinated\n",
      "StringencyIndex_NonVaccinated\n",
      "StringencyIndex_Vaccinated\n",
      "StringencyIndex_SimpleAverage\n",
      "StringencyIndex_WeightedAverage\n",
      "GovernmentResponseIndex_NonVaccinated\n",
      "GovernmentResponseIndex_Vaccinated\n",
      "GovernmentResponseIndex_SimpleAverage\n",
      "GovernmentResponseIndex_WeightedAverage\n",
      "ContainmentHealthIndex_NonVaccinated\n",
      "ContainmentHealthIndex_Vaccinated\n",
      "ContainmentHealthIndex_SimpleAverage\n",
      "ContainmentHealthIndex_WeightedAverage\n",
      "EconomicSupportIndex\n"
     ]
    }
   ],
   "source": [
    "for col in df.columns:\n",
    "    print(col)"
   ]
  },
  {
   "cell_type": "code",
   "execution_count": null,
   "id": "6eb42b30",
   "metadata": {},
   "outputs": [],
   "source": []
  },
  {
   "cell_type": "code",
   "execution_count": 9,
   "id": "6ecab2bc",
   "metadata": {},
   "outputs": [
    {
     "name": "stdout",
     "output_type": "stream",
     "text": [
      "3.0\n",
      "20200305\n",
      "Washington District Shuts Down All Schools to Slow Deadly Coronavirus Outbreak Link: http://web.archive.org/web/20201104100007/https://www.thedailybeast.com/northshore-school-district-shuts-down-all-schools-to-slow-deadly-coronavirus-outbreak\n",
      "3.0\n",
      "20200411\n",
      "Education trade publication's tracker of school closures. Link not archivable. https://www.edweek.org/ew/section/multimedia/map-coronavirus-and-school-closures.html  \n",
      "3.0\n",
      "20200416\n",
      "Education trade publication's tracker of school closures. As of 16/04, South Dakota, Tennessee, Maine, Idaho, and California only recommend, but not require all schools to close. http://web.archive.org/web/20201031020101/https://www.edweek.org/ew/section/multimedia/map-coronavirus-and-school-closures.html\n",
      "3.0\n",
      "20200423\n",
      "All states have now ordered schools to close through the end of the school year, with a few exceptions (Wyoming schools ordered closed through 30 April, Montana through 6 May, New York & New Jersey through 15 May, etc.). Per tracker updated by education trade publication Education Week. Link not archivable: https://www.edweek.org/ew/section/multimedia/map-coronavirus-and-school-closures.html    Universities have largely closed or moved instruction to digital learning, although there may be exceptions (varies depending on whether university is public v. private, and the state in which a university is located). Archived link: https://web.archive.org/web/20200425185418/https://www.ncsl.org/research/education/higher-education-responses-to-coronavirus-covid-19.aspx\n",
      "3.0\n",
      "20200426\n",
      "All states have ordered or recommended school closures, with most states implementing this until the end of the academic year and some into May, as shown in the archived link: https://web.archive.org/web/20200504084104/https://www.edweek.org/ew/section/multimedia/map-coronavirus-and-school-closures.html    Universities and colleges have largely cancelled in-person classes or shifted to online-only instruction. Archived link: https://web.archive.org/web/20200504084622/https://www.ncsl.org/research/education/higher-education-responses-to-coronavirus-covid-19.aspx\n",
      "3.0\n",
      "20200510\n",
      "Probably no reopening in the majority of states until late 2020:    https://web.archive.org/web/20200515104752/https://edition.cnn.com/2020/04/18/us/schools-closed-coronavirus/\n",
      "3.0\n",
      "20200615\n",
      "KFF reports sustained school closures in almost all states (Montana has rescinded school closure, several other state governments have \"recommended\" closure)    https://web.archive.org/web/20200619011857/https://www.kff.org/health-costs/issue-brief/state-data-and-policy-actions-to-address-coronavirus/?gclid=EAIaIQobChMIh5-N1r6B6gIV3YVaBR3hIQbHEAAYAiAAEgJqUPD_BwE\n",
      "3.0\n",
      "20200706\n",
      "KFF reports ongoing widespread school closures for the school year.    KFF reports that CA, OR, NM, NY, and ME all maintain statewide stay-at-home orders.    https://web.archive.org/web/20200624191031/https://www.kff.org/coronavirus-covid-19/issue-brief/state-data-and-policy-actions-to-address-coronavirus/\n",
      "3.0\n",
      "20200814\n",
      "According to the New York Times, New York City is the only major school district in the country to open for students part-time this fall.     See the article in the New York Times, archived: http://archive.vn/OkUNQ\n",
      "3.0\n",
      "20200829\n",
      "Some states still remain on a 3T level.\n",
      "3.0\n",
      "20200912\n",
      "Targeted closings remain in effect in several states according to the Edweek tracker. These include Hawaii, California, Oregon, New Mexico, and West Virginia. Some US territories (Washington DC, Puerto Rico) continue with full closures.  https://web.archive.org/web/20200928032026/https://www.edweek.org/ew/section/multimedia/map-covid-19-schools-open-closed.html?s_kwcid=AL%216416%213%21455874877102%21b%21%21g%21%21school%2520closures&gclid=CjwKCAjw8MD7BRArEiwAGZsrBRfHqJRiG8pqlV9u1Fcw4A23jNB5VKo7BPMWpvm75kV5qbWYLn_G7RoC808QAvD_BwE\n",
      "3.0\n",
      "20200929\n",
      "According to the latest data from Edweek's tracker, some US states (inducing Hawaii, California, and West Virginia) mandate school closures in some parts of their states due to the risk of infection. Some US territories (Washington DC, Puerto Rico) continue with full closures.  https://web.archive.org/web/20201012153605/https://www.edweek.org/ew/section/multimedia/map-covid-19-schools-open-closed.html?s_kwcid=AL%216416%213%21455874877102%21b%21%21g%21%21school%2520reopenings&gclid=CjwKCAjw_Y_8BRBiEiwA5MCBJqHWkbJBI7eGWbK2BUc3j4GKdCSsH3ujH3K94aqqu5SKIRY-UPGcXhoClZIQAvD_BwE\n",
      "3.0\n",
      "20201013\n",
      "According to the latest data from CNN's tracker, some US states (inducing Hawaii, California, and West Virginia) mandate school closures in some parts of their states due to the risk of infection. Some US territories (Washington DC, Puerto Rico) continue with full closures.  https://web.archive.org/web/20201025220053/https://www.cnn.com/interactive/2020/health/coronavirus-schools-reopening/\n",
      "3.0\n",
      "20201026\n",
      "According to the latest data from Edweek's tracker, some US states (inducing Hawaii, California, and West Virginia) mandate school closures in some parts of their states due to the risk of infection. Some US territories (Washington DC, Puerto Rico) continue with full closures.  https://web.archive.org/web/20201108171154/https://www.edweek.org/ew/section/multimedia/map-covid-19-schools-open-closed.html?cmp=eml-enl-eu-mostpop&M=59726363&U=&UUID=96155749d7cc9a7eb4e153ce431f8907\n",
      "3.0\n",
      "20201119\n",
      "The central govt does not recommend school closings. According to a press briefing by VP Pence and members of the Coronavirus Task Force on 19 Nov: \"it is the position of this task force, of this administration, and of the CDC that we do not need to close our schools.\" https://web.archive.org/web/20201121183220/https://www.edweek.org/ew/section/multimedia/map-covid-19-schools-open-closed.html    However, at state level, different decisions have been taken. Edweek reports full closures for DC and Puerto Rico, partial closures for Michigan, New York, West Virginia, Delaware, North Carolina, Oregon, California, New Mexico, Hawaii. https://web.archive.org/web/20201121183241/https://www.whitehouse.gov/briefings-statements/press-briefing-vice-president-pence-members-coronavirus-task-force-november-19-2020/\n",
      "3.0\n",
      "20201128\n",
      "Many school districts and universities returned to all-remote learning for the remainder the 2020 academic calendar instead of returning to in-person instruction after the Thanksgiving holiday. Examples include Tulsa, Oklahoma school districts and Arkansas Springdale School District.     https://web.archive.org/web/20201022013733/https://www.tulsaschools.org/about/news/news-item/~board/district-news/post/update-on-quarter-two-modes-of-learning  https://web.archive.org/web/20201128152223/https://www.nwahomepage.com/back-to-class/list-tracking-schools-with-covid-19-cases/    Universities have also announced extended winter breaks and canceled Spring Breaks to control COVID-19 on campus and among students and staff. Examples include the University of Oklahoma and the Oklahoma State University, which both announce they will extend winter break by one week and cancel Spring Break 2021     https://web.archive.org/web/20201123075018/https://www.ou.edu/web/news_events/articles/news_2020/ou-announces-calendar-updates-to-fall-spring-semesters  https://web.archive.org/web/20201123075128/https://go.okstate.edu/coronavirus/latest-announcements/spring-start-date-2020.html    Many other universities have urged or required on-campus students to get tested before returning home for the Thanksgiving holiday. University responses vary greatly.  Link:  https://web.archive.org/web/20201130235220/https://www.nytimes.com/2020/11/09/us/colleges-coronavirus-thanksgiving.html\n",
      "3.0\n",
      "20201208\n",
      "All levels of education are closed in Puerto Rico and the District of Columbia, as well as in some parts of other states like California, New York, and Hawaii.    https://web.archive.org/web/20201213015256/https://www.edweek.org/leadership/map-where-are-schools-closed/2020/07\n",
      "3.0\n",
      "20201218\n",
      "Full closure at all levels of education is still in effect in Puerto Rico and District of Columbia. There is also partial closure still in effect in other states including California, Delaware, West Virginia, Hawaii, New York, New Mexico, North Carolina, Michigan, Kentucky, Oregon etc.    https://archive.vn/aqPu5   \n",
      "3.0\n",
      "20201223\n",
      "Schools are still closed on all levels in District of Columbia and Puerto Rico.  http://web.archive.org/web/20210104202331/https://www.edweek.org/leadership/map-where-are-schools-closed/2020/07 \n",
      "3.0\n",
      "20210101\n",
      "Extent of school closures is varied between states. Coded 3T due to presence of total closures in some states/territories.  \"As of Dec. 21, 10 states, the District of Columbia, and Puerto Rico have state-ordered full or partial closures in effect.\"  Sources:   Countrywide overview, archived 1 January 2021.  http://web.archive.org/web/20210101062423/https://www.edweek.org/leadership/map-where-are-schools-closed/2020/07  Washington Post article, mentions continued closure of schools in Washington D.C, published 2 January 2021:  http://web.archive.org/web/20221001153615/https://www.washingtonpost.com/local/education/washington-dc-failed-school-reopening/2021/01/02/af6d6b56-2532-11eb-952e-0c475972cfc0_story.html\n"
     ]
    }
   ],
   "source": [
    "c1_cols = [\"C1E_School closing\", \"C1_Notes\"]\n",
    "index_cols = [\"CountryName\", \"CountryCode\", \"RegionName\", \"RegionCode\", \"Date\"]\n",
    "c1 = df[index_cols + c1_cols]\n",
    "c1 = c1.dropna(subset=[\"C1_Notes\"])\n",
    "c1 = c1[c1[\"RegionCode\"] == \"NAT_TOTAL\"]\n",
    "c1 = c1.sort_values(by=\"Date\")\n",
    "for i in range(20):\n",
    "    print(c1[\"C1E_School closing\"].iloc[i])\n",
    "    print(c1[\"Date\"].iloc[i])\n",
    "    print(c1[\"C1_Notes\"].iloc[i])"
   ]
  },
  {
   "cell_type": "code",
   "execution_count": 5,
   "id": "f7dc0e98",
   "metadata": {},
   "outputs": [
    {
     "data": {
      "image/png": "[encoded data removed]",
      "text/plain": [
       "<Figure size 640x480 with 1 Axes>"
      ]
     },
     "metadata": {},
     "output_type": "display_data"
    }
   ],
   "source": [
    "fig, ax = plt.subplots()\n",
    "ax.plot(c1[\"Date\"], c1[\"C1E_School closing\"])\n",
    "plt.show()"
   ]
  },
  {
   "cell_type": "code",
   "execution_count": 8,
   "id": "f7eb8f27",
   "metadata": {},
   "outputs": [
    {
     "data": {
      "text/plain": [
       "Timestamp('2020-03-01 00:00:00')"
      ]
     },
     "execution_count": 8,
     "metadata": {},
     "output_type": "execute_result"
    }
   ],
   "source": [
    "pd.to_datetime(\"20200301\")"
   ]
  },
  {
   "cell_type": "code",
   "execution_count": 11,
   "id": "294cb4e5",
   "metadata": {},
   "outputs": [],
   "source": [
    "def create_initial_persistence():\n",
    "    rows = []\n",
    "    rows.append({\"date\": pd.to_datetime(\"November 28 2020\"), \"region\": \"United States\", \"criterion\": \"C1E\", \"score\": 3})\n",
    "    rows.append({\"date\": pd.to_datetime(\"September 14 2024\"), \"region\": \"United States\", \"criterion\": \"C1E\", \"score\": 0})\n",
    "\n",
    "    df = pd.DataFrame(rows)\n",
    "    df.to_csv(\"persistence.csv\", index=False)\n",
    "\n",
    "create_initial_persistence()"
   ]
  }
 ],
 "metadata": {
  "kernelspec": {
   "display_name": "neurosan",
   "language": "python",
   "name": "python3"
  },
  "language_info": {
   "codemirror_mode": {
    "name": "ipython",
    "version": 3
   },
   "file_extension": ".py",
   "mimetype": "text/x-python",
   "name": "python",
   "nbconvert_exporter": "python",
   "pygments_lexer": "ipython3",
   "version": "3.12.9"
  }
 },
 "nbformat": 4,
 "nbformat_minor": 5
}
