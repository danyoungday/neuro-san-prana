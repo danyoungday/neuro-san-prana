{
 "cells": [
  {
   "cell_type": "code",
   "execution_count": 30,
   "id": "a44f71f7",
   "metadata": {},
   "outputs": [],
   "source": [
    "import matplotlib.pyplot as plt\n",
    "import pandas as pd\n",
    "import re"
   ]
  },
  {
   "cell_type": "code",
   "execution_count": 2,
   "id": "bac637e0",
   "metadata": {},
   "outputs": [
    {
     "name": "stderr",
     "output_type": "stream",
     "text": [
      "/var/folders/4c/sd5grc691sx_dp1xqn1s9dyc0000gq/T/ipykernel_1486/3994568911.py:1: DtypeWarning: Columns (65,67,76,78) have mixed types. Specify dtype option on import or set low_memory=False.\n",
      "  df = pd.read_csv(\"OxCGRT_raw_USA_v1.csv\")\n"
     ]
    }
   ],
   "source": [
    "df = pd.read_csv(\"OxCGRT_raw_USA_v1.csv\")"
   ]
  },
  {
   "cell_type": "code",
   "execution_count": 3,
   "id": "d130dd36",
   "metadata": {},
   "outputs": [
    {
     "name": "stdout",
     "output_type": "stream",
     "text": [
      "CountryName\n",
      "CountryCode\n",
      "RegionName\n",
      "RegionCode\n",
      "Jurisdiction\n",
      "Date\n",
      "C1E_School closing\n",
      "C1E_Flag\n",
      "C1NV_School closing\n",
      "C1NV_Flag\n",
      "C1V_School closing\n",
      "C1V_Flag\n",
      "C1_Notes\n",
      "C2E_Workplace closing\n",
      "C2E_Flag\n",
      "C2NV_Workplace closing\n",
      "C2NV_Flag\n",
      "C2V_Workplace closing\n",
      "C2V_Flag\n",
      "C2_Notes\n",
      "C3E_Cancel public events\n",
      "C3E_Flag\n",
      "C3NV_Cancel public events\n",
      "C3NV_Flag\n",
      "C3V_Cancel public events\n",
      "C3V_Flag\n",
      "C3_Notes\n",
      "C4E_Restrictions on gatherings\n",
      "C4E_Flag\n",
      "C4NV_Restrictions on gatherings\n",
      "C4NV_Flag\n",
      "C4V_Restrictions on gatherings\n",
      "C4V_Flag\n",
      "C4_Notes\n",
      "C5E_Close public transport\n",
      "C5E_Flag\n",
      "C5NV_Close public transport\n",
      "C5NV_Flag\n",
      "C5V_Close public transport\n",
      "C5V_Flag\n",
      "C5_Notes\n",
      "C6E_Stay at home requirements\n",
      "C6E_Flag\n",
      "C6NV_Stay at home requirements\n",
      "C6NV_Flag\n",
      "C6V_Stay at home requirements\n",
      "C6V_Flag\n",
      "C6_Notes\n",
      "C7E_Restrictions on internal movement\n",
      "C7E_Flag\n",
      "C7NV_Restrictions on internal movement\n",
      "C7NV_Flag\n",
      "C7V_Restrictions on internal movement\n",
      "C7V_Flag\n",
      "C7_Notes\n",
      "C8E_International travel controls\n",
      "C8NV_International travel controls\n",
      "C8V_International travel controls\n",
      "C8_Notes\n",
      "E1_Income support\n",
      "E1_Flag\n",
      "E1_Notes\n",
      "E2_Debt/contract relief\n",
      "E2_Notes\n",
      "E3_Fiscal measures\n",
      "E3_Notes\n",
      "E4_International support\n",
      "E4_Notes\n",
      "H1_Public information campaigns\n",
      "H1_Flag\n",
      "H1_Notes\n",
      "H2_Testing policy\n",
      "H2_Notes\n",
      "H3_Contact tracing\n",
      "H3_Notes\n",
      "H4_Emergency investment in healthcare\n",
      "H4_Notes\n",
      "H5_Investment in vaccines\n",
      "H5_Notes\n",
      "H6E_Facial Coverings\n",
      "H6E_Flag\n",
      "H6NV_Facial Coverings\n",
      "H6NV_Flag\n",
      "H6V_Facial Coverings\n",
      "H6V_Flag\n",
      "H6_Notes\n",
      "H7_Vaccination policy\n",
      "H7_Flag\n",
      "H7_Notes\n",
      "H8E_Protection of elderly people\n",
      "H8E_Flag\n",
      "H8NV_Protection of elderly people\n",
      "H8NV_Flag\n",
      "H8V_Protection of elderly people\n",
      "H8V_Flag\n",
      "H8_Notes\n",
      "M1_Notes\n",
      "V1_Vaccine Prioritisation (summary)\n",
      "V1_Notes\n",
      "V2A_Vaccine Availability (summary)\n",
      "V2_Notes\n",
      "V2B_Vaccine age eligibility/availability age floor (general population summary)\n",
      "V2C_Vaccine age eligibility/availability age floor (at risk summary)\n",
      "V2D_Medically/ clinically vulnerable (Non-elderly)\n",
      "V2E_Education\n",
      "V2F_Frontline workers  (non healthcare)\n",
      "V2G_Frontline workers  (healthcare)\n",
      "V3_Vaccine Financial Support (summary)\n",
      "V3_Notes\n",
      "V4_Mandatory Vaccination (summary)\n",
      "V4_Notes\n",
      "ConfirmedCases\n",
      "ConfirmedDeaths\n",
      "MajorityVaccinated\n",
      "PopulationVaccinated\n",
      "StringencyIndex_NonVaccinated\n",
      "StringencyIndex_Vaccinated\n",
      "StringencyIndex_SimpleAverage\n",
      "StringencyIndex_WeightedAverage\n",
      "GovernmentResponseIndex_NonVaccinated\n",
      "GovernmentResponseIndex_Vaccinated\n",
      "GovernmentResponseIndex_SimpleAverage\n",
      "GovernmentResponseIndex_WeightedAverage\n",
      "ContainmentHealthIndex_NonVaccinated\n",
      "ContainmentHealthIndex_Vaccinated\n",
      "ContainmentHealthIndex_SimpleAverage\n",
      "ContainmentHealthIndex_WeightedAverage\n",
      "EconomicSupportIndex\n"
     ]
    }
   ],
   "source": [
    "for col in df.columns:\n",
    "    print(col)"
   ]
  },
  {
   "cell_type": "code",
   "execution_count": 40,
   "id": "6ecab2bc",
   "metadata": {},
   "outputs": [
    {
     "data": {
      "text/plain": [
       "88"
      ]
     },
     "execution_count": 40,
     "metadata": {},
     "output_type": "execute_result"
    }
   ],
   "source": [
    "c1_cols = [\"C1E_School closing\", \"C1_Notes\"]\n",
    "index_cols = [\"CountryName\", \"CountryCode\", \"RegionName\", \"RegionCode\", \"Date\"]\n",
    "c1 = df[index_cols + c1_cols]\n",
    "c1 = c1[c1[\"RegionName\"] == \"Texas\"]\n",
    "c1 = c1.dropna(subset=c1_cols)\n",
    "c1 = c1.sort_values(by=[\"Date\"])\n",
    "len(c1)"
   ]
  },
  {
   "cell_type": "code",
   "execution_count": null,
   "id": "280d1ee4",
   "metadata": {},
   "outputs": [
    {
     "ename": "KeyError",
     "evalue": "\"['score'] not found in axis\"",
     "output_type": "error",
     "traceback": [
      "\u001b[31m---------------------------------------------------------------------------\u001b[39m",
      "\u001b[31mKeyError\u001b[39m                                  Traceback (most recent call last)",
      "\u001b[36mCell\u001b[39m\u001b[36m \u001b[39m\u001b[32mIn[48]\u001b[39m\u001b[32m, line 22\u001b[39m\n\u001b[32m     19\u001b[39m     \u001b[38;5;28;01mreturn\u001b[39;00m df\n\u001b[32m     21\u001b[39m texas = create_dataset(c1)\n\u001b[32m---> \u001b[39m\u001b[32m22\u001b[39m \u001b[43mtexas\u001b[49m\u001b[43m.\u001b[49m\u001b[43mdrop\u001b[49m\u001b[43m(\u001b[49m\u001b[33;43m\"\u001b[39;49m\u001b[33;43mscore\u001b[39;49m\u001b[33;43m\"\u001b[39;49m\u001b[43m)\u001b[49m.to_csv(\u001b[33m\"\u001b[39m\u001b[33mtexas.csv\u001b[39m\u001b[33m\"\u001b[39m, index=\u001b[38;5;28;01mFalse\u001b[39;00m)\n\u001b[32m     23\u001b[39m texas.drop(\u001b[33m\"\u001b[39m\u001b[33msource\u001b[39m\u001b[33m\"\u001b[39m).to_csv(\u001b[33m\"\u001b[39m\u001b[33mtexas-labels.csv\u001b[39m\u001b[33m\"\u001b[39m, index=\u001b[38;5;28;01mFalse\u001b[39;00m)\n",
      "\u001b[36mFile \u001b[39m\u001b[32m~/anaconda3/envs/neurosan/lib/python3.12/site-packages/pandas/core/frame.py:5581\u001b[39m, in \u001b[36mDataFrame.drop\u001b[39m\u001b[34m(self, labels, axis, index, columns, level, inplace, errors)\u001b[39m\n\u001b[32m   5433\u001b[39m \u001b[38;5;28;01mdef\u001b[39;00m\u001b[38;5;250m \u001b[39m\u001b[34mdrop\u001b[39m(\n\u001b[32m   5434\u001b[39m     \u001b[38;5;28mself\u001b[39m,\n\u001b[32m   5435\u001b[39m     labels: IndexLabel | \u001b[38;5;28;01mNone\u001b[39;00m = \u001b[38;5;28;01mNone\u001b[39;00m,\n\u001b[32m   (...)\u001b[39m\u001b[32m   5442\u001b[39m     errors: IgnoreRaise = \u001b[33m\"\u001b[39m\u001b[33mraise\u001b[39m\u001b[33m\"\u001b[39m,\n\u001b[32m   5443\u001b[39m ) -> DataFrame | \u001b[38;5;28;01mNone\u001b[39;00m:\n\u001b[32m   5444\u001b[39m \u001b[38;5;250m    \u001b[39m\u001b[33;03m\"\"\"\u001b[39;00m\n\u001b[32m   5445\u001b[39m \u001b[33;03m    Drop specified labels from rows or columns.\u001b[39;00m\n\u001b[32m   5446\u001b[39m \n\u001b[32m   (...)\u001b[39m\u001b[32m   5579\u001b[39m \u001b[33;03m            weight  1.0     0.8\u001b[39;00m\n\u001b[32m   5580\u001b[39m \u001b[33;03m    \"\"\"\u001b[39;00m\n\u001b[32m-> \u001b[39m\u001b[32m5581\u001b[39m     \u001b[38;5;28;01mreturn\u001b[39;00m \u001b[38;5;28;43msuper\u001b[39;49m\u001b[43m(\u001b[49m\u001b[43m)\u001b[49m\u001b[43m.\u001b[49m\u001b[43mdrop\u001b[49m\u001b[43m(\u001b[49m\n\u001b[32m   5582\u001b[39m \u001b[43m        \u001b[49m\u001b[43mlabels\u001b[49m\u001b[43m=\u001b[49m\u001b[43mlabels\u001b[49m\u001b[43m,\u001b[49m\n\u001b[32m   5583\u001b[39m \u001b[43m        \u001b[49m\u001b[43maxis\u001b[49m\u001b[43m=\u001b[49m\u001b[43maxis\u001b[49m\u001b[43m,\u001b[49m\n\u001b[32m   5584\u001b[39m \u001b[43m        \u001b[49m\u001b[43mindex\u001b[49m\u001b[43m=\u001b[49m\u001b[43mindex\u001b[49m\u001b[43m,\u001b[49m\n\u001b[32m   5585\u001b[39m \u001b[43m        \u001b[49m\u001b[43mcolumns\u001b[49m\u001b[43m=\u001b[49m\u001b[43mcolumns\u001b[49m\u001b[43m,\u001b[49m\n\u001b[32m   5586\u001b[39m \u001b[43m        \u001b[49m\u001b[43mlevel\u001b[49m\u001b[43m=\u001b[49m\u001b[43mlevel\u001b[49m\u001b[43m,\u001b[49m\n\u001b[32m   5587\u001b[39m \u001b[43m        \u001b[49m\u001b[43minplace\u001b[49m\u001b[43m=\u001b[49m\u001b[43minplace\u001b[49m\u001b[43m,\u001b[49m\n\u001b[32m   5588\u001b[39m \u001b[43m        \u001b[49m\u001b[43merrors\u001b[49m\u001b[43m=\u001b[49m\u001b[43merrors\u001b[49m\u001b[43m,\u001b[49m\n\u001b[32m   5589\u001b[39m \u001b[43m    \u001b[49m\u001b[43m)\u001b[49m\n",
      "\u001b[36mFile \u001b[39m\u001b[32m~/anaconda3/envs/neurosan/lib/python3.12/site-packages/pandas/core/generic.py:4788\u001b[39m, in \u001b[36mNDFrame.drop\u001b[39m\u001b[34m(self, labels, axis, index, columns, level, inplace, errors)\u001b[39m\n\u001b[32m   4786\u001b[39m \u001b[38;5;28;01mfor\u001b[39;00m axis, labels \u001b[38;5;129;01min\u001b[39;00m axes.items():\n\u001b[32m   4787\u001b[39m     \u001b[38;5;28;01mif\u001b[39;00m labels \u001b[38;5;129;01mis\u001b[39;00m \u001b[38;5;129;01mnot\u001b[39;00m \u001b[38;5;28;01mNone\u001b[39;00m:\n\u001b[32m-> \u001b[39m\u001b[32m4788\u001b[39m         obj = \u001b[43mobj\u001b[49m\u001b[43m.\u001b[49m\u001b[43m_drop_axis\u001b[49m\u001b[43m(\u001b[49m\u001b[43mlabels\u001b[49m\u001b[43m,\u001b[49m\u001b[43m \u001b[49m\u001b[43maxis\u001b[49m\u001b[43m,\u001b[49m\u001b[43m \u001b[49m\u001b[43mlevel\u001b[49m\u001b[43m=\u001b[49m\u001b[43mlevel\u001b[49m\u001b[43m,\u001b[49m\u001b[43m \u001b[49m\u001b[43merrors\u001b[49m\u001b[43m=\u001b[49m\u001b[43merrors\u001b[49m\u001b[43m)\u001b[49m\n\u001b[32m   4790\u001b[39m \u001b[38;5;28;01mif\u001b[39;00m inplace:\n\u001b[32m   4791\u001b[39m     \u001b[38;5;28mself\u001b[39m._update_inplace(obj)\n",
      "\u001b[36mFile \u001b[39m\u001b[32m~/anaconda3/envs/neurosan/lib/python3.12/site-packages/pandas/core/generic.py:4830\u001b[39m, in \u001b[36mNDFrame._drop_axis\u001b[39m\u001b[34m(self, labels, axis, level, errors, only_slice)\u001b[39m\n\u001b[32m   4828\u001b[39m         new_axis = axis.drop(labels, level=level, errors=errors)\n\u001b[32m   4829\u001b[39m     \u001b[38;5;28;01melse\u001b[39;00m:\n\u001b[32m-> \u001b[39m\u001b[32m4830\u001b[39m         new_axis = \u001b[43maxis\u001b[49m\u001b[43m.\u001b[49m\u001b[43mdrop\u001b[49m\u001b[43m(\u001b[49m\u001b[43mlabels\u001b[49m\u001b[43m,\u001b[49m\u001b[43m \u001b[49m\u001b[43merrors\u001b[49m\u001b[43m=\u001b[49m\u001b[43merrors\u001b[49m\u001b[43m)\u001b[49m\n\u001b[32m   4831\u001b[39m     indexer = axis.get_indexer(new_axis)\n\u001b[32m   4833\u001b[39m \u001b[38;5;66;03m# Case for non-unique axis\u001b[39;00m\n\u001b[32m   4834\u001b[39m \u001b[38;5;28;01melse\u001b[39;00m:\n",
      "\u001b[36mFile \u001b[39m\u001b[32m~/anaconda3/envs/neurosan/lib/python3.12/site-packages/pandas/core/indexes/base.py:7070\u001b[39m, in \u001b[36mIndex.drop\u001b[39m\u001b[34m(self, labels, errors)\u001b[39m\n\u001b[32m   7068\u001b[39m \u001b[38;5;28;01mif\u001b[39;00m mask.any():\n\u001b[32m   7069\u001b[39m     \u001b[38;5;28;01mif\u001b[39;00m errors != \u001b[33m\"\u001b[39m\u001b[33mignore\u001b[39m\u001b[33m\"\u001b[39m:\n\u001b[32m-> \u001b[39m\u001b[32m7070\u001b[39m         \u001b[38;5;28;01mraise\u001b[39;00m \u001b[38;5;167;01mKeyError\u001b[39;00m(\u001b[33mf\u001b[39m\u001b[33m\"\u001b[39m\u001b[38;5;132;01m{\u001b[39;00mlabels[mask].tolist()\u001b[38;5;132;01m}\u001b[39;00m\u001b[33m not found in axis\u001b[39m\u001b[33m\"\u001b[39m)\n\u001b[32m   7071\u001b[39m     indexer = indexer[~mask]\n\u001b[32m   7072\u001b[39m \u001b[38;5;28;01mreturn\u001b[39;00m \u001b[38;5;28mself\u001b[39m.delete(indexer)\n",
      "\u001b[31mKeyError\u001b[39m: \"['score'] not found in axis\""
     ]
    }
   ],
   "source": [
    "def extract_urls(text: str) -> list[str]:\n",
    "    url_pattern = r'https?://[^\\s<>\"]+|www\\.[^\\s<>\"]+'\n",
    "    urls = re.findall(url_pattern, text)\n",
    "    return urls\n",
    "\n",
    "def create_dataset(c1: pd.DataFrame) -> pd.DataFrame:\n",
    "    policy = \"C1E_School closing\"\n",
    "    region = \"Texas\"\n",
    "    data = []\n",
    "    for i, row in c1.iterrows():\n",
    "        date = pd.to_datetime(row[\"Date\"], format=\"%Y%m%d\").date()\n",
    "        score = row[policy]\n",
    "        urls = extract_urls(row[\"C1_Notes\"])\n",
    "        url_string = \", \".join(urls)\n",
    "        to_add = {\"Date\": date, \"Region\": region, \"Policy\": policy, \"score\": score, \"source\": url_string}\n",
    "        data.append(to_add)\n",
    "\n",
    "    df = pd.DataFrame(data)\n",
    "    return df\n",
    "\n",
    "texas = create_dataset(c1)\n",
    "texas.drop(columns=[\"score\"]).to_csv(\"texas.csv\", index=False)\n",
    "texas.drop(columns=[\"source\"]).to_csv(\"texas-labels.csv\", index=False)"
   ]
  },
  {
   "cell_type": "code",
   "execution_count": null,
   "id": "f7dc0e98",
   "metadata": {},
   "outputs": [
    {
     "data": {
      "image/png": "[encoded data removed]",
      "text/plain": [
       "<Figure size 640x480 with 1 Axes>"
      ]
     },
     "metadata": {},
     "output_type": "display_data"
    }
   ],
   "source": [
    "fig, ax = plt.subplots()\n",
    "ax.plot(pd.to_datetime(c1[\"Date\"], format=\"%Y%m%d\"), c1[\"C1E_School closing\"])\n",
    "ax.set_xlabel(\"Date\")\n",
    "plt.show()"
   ]
  },
  {
   "cell_type": "code",
   "execution_count": 8,
   "id": "f7eb8f27",
   "metadata": {},
   "outputs": [
    {
     "data": {
      "text/plain": [
       "Timestamp('2020-03-01 00:00:00')"
      ]
     },
     "execution_count": 8,
     "metadata": {},
     "output_type": "execute_result"
    }
   ],
   "source": [
    "pd.to_datetime(\"20200301\")"
   ]
  },
  {
   "cell_type": "code",
   "execution_count": 11,
   "id": "294cb4e5",
   "metadata": {},
   "outputs": [],
   "source": [
    "def create_initial_persistence():\n",
    "    rows = []\n",
    "    rows.append({\"date\": pd.to_datetime(\"November 28 2020\"), \"region\": \"United States\", \"criterion\": \"C1E\", \"score\": 3})\n",
    "    rows.append({\"date\": pd.to_datetime(\"September 14 2024\"), \"region\": \"United States\", \"criterion\": \"C1E\", \"score\": 0})\n",
    "\n",
    "    df = pd.DataFrame(rows)\n",
    "    df.to_csv(\"persistence.csv\", index=False)\n",
    "\n",
    "create_initial_persistence()"
   ]
  }
 ],
 "metadata": {
  "kernelspec": {
   "display_name": "neurosan",
   "language": "python",
   "name": "python3"
  },
  "language_info": {
   "codemirror_mode": {
    "name": "ipython",
    "version": 3
   },
   "file_extension": ".py",
   "mimetype": "text/x-python",
   "name": "python",
   "nbconvert_exporter": "python",
   "pygments_lexer": "ipython3",
   "version": "3.12.9"
  }
 },
 "nbformat": 4,
 "nbformat_minor": 5
}
